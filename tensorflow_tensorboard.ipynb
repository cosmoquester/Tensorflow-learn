{
 "cells": [
  {
   "cell_type": "code",
   "execution_count": 1,
   "metadata": {},
   "outputs": [],
   "source": [
    "import tensorflow as tf"
   ]
  },
  {
   "cell_type": "code",
   "execution_count": 2,
   "metadata": {},
   "outputs": [],
   "source": [
    "x_data = [[1, 2, 1, 1], [2, 1, 3, 2], [3, 1, 3, 4], [4, 1, 5, 5], [1, 7, 5, 5],[1, 2, 5, 6], [1, 6, 6, 6], [1, 7, 7, 7]]\n",
    "# one hot encoding!\n",
    "y_data = [[0, 0, 1], [0, 0, 1], [0, 0, 1], [0, 1, 0], [0, 1, 0], [0, 1, 0], [1, 0, 0], [1, 0, 0]]\n",
    "\n",
    "\n",
    "with tf.name_scope(\"layer\") as scope:\n",
    "    X = tf.placeholder(\"float\", [None, 4])\n",
    "    Y = tf.placeholder(\"float\", [None, 3])\n",
    "\n",
    "    w = tf.Variable(tf.random_normal([4,3]))\n",
    "    b = tf.Variable(tf.random_normal([3]))\n",
    "\n",
    "    hypothesis = tf.nn.softmax(tf.matmul(X, w) + b)\n",
    "\n",
    "    w_hist = tf.summary.histogram(\"weight\", w)\n",
    "    b_hist = tf.summary.histogram(\"bias\", b)\n",
    "    \n",
    "with tf.name_scope(\"cost_scope\") as scope:\n",
    "    cost = tf.reduce_mean(-tf.reduce_sum(Y * tf.log(hypothesis), axis=1))\n",
    "    cost_hist = tf.summary.scalar(\"cost\", cost)\n",
    "\n",
    "    accuracy = tf.reduce_mean(tf.cast(tf.equal(tf.argmax(hypothesis, 1), tf.argmax(y_data, 1)), tf.float32))\n",
    "    accuracy_hist = tf.summary.scalar(\"accuracy\", accuracy)\n",
    "\n",
    "train = tf.train.GradientDescentOptimizer(learning_rate=0.1).minimize(cost)\n",
    "\n"
   ]
  },
  {
   "cell_type": "code",
   "execution_count": 6,
   "metadata": {},
   "outputs": [
    {
     "name": "stdout",
     "output_type": "stream",
     "text": [
      "3.0315764\n",
      "0.14946914\n",
      "0.0881628\n",
      "0.06221128\n",
      "0.047965415\n",
      "0.038988322\n",
      "0.032822646\n",
      "0.028330576\n",
      "0.024914155\n",
      "0.022229549\n",
      "0.020064887\n",
      "Accuracy: 1.0\n"
     ]
    }
   ],
   "source": [
    "with tf.Session() as sess:\n",
    "    merged_summary = tf.summary.merge_all()\n",
    "    writer = tf.summary.FileWriter(\"./logs/tensorboard\")\n",
    "    writer.add_graph(sess.graph)  # Show the graph\n",
    "    \n",
    "    sess.run(tf.global_variables_initializer())\n",
    "\n",
    "\n",
    "    for step in range(20001):\n",
    "        summary, _ = sess.run([merged_summary, train], feed_dict={X:x_data, Y:y_data})\n",
    "        if step % 2000 == 0:\n",
    "            print sess.run(cost, feed_dict={X:x_data, Y:y_data})\n",
    "\n",
    "    \n",
    "    print \"Accuracy:\", sess.run(accuracy, feed_dict={X:x_data, Y:y_data})\n",
    "\n",
    "    \n"
   ]
  },
  {
   "cell_type": "code",
   "execution_count": null,
   "metadata": {},
   "outputs": [],
   "source": []
  }
 ],
 "metadata": {
  "kernelspec": {
   "display_name": "Tensorflow",
   "language": "python",
   "name": "myenv"
  },
  "language_info": {
   "codemirror_mode": {
    "name": "ipython",
    "version": 2
   },
   "file_extension": ".py",
   "mimetype": "text/x-python",
   "name": "python",
   "nbconvert_exporter": "python",
   "pygments_lexer": "ipython2",
   "version": "2.7.12"
  }
 },
 "nbformat": 4,
 "nbformat_minor": 2
}
