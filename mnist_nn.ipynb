{
 "cells": [
  {
   "cell_type": "code",
   "execution_count": 1,
   "metadata": {},
   "outputs": [],
   "source": [
    "import tensorflow as tf\n",
    "from tensorflow.examples.tutorials.mnist import input_data"
   ]
  },
  {
   "cell_type": "code",
   "execution_count": 2,
   "metadata": {},
   "outputs": [
    {
     "name": "stdout",
     "output_type": "stream",
     "text": [
      "WARNING:tensorflow:From <ipython-input-2-578b0dfb594b>:1: read_data_sets (from tensorflow.contrib.learn.python.learn.datasets.mnist) is deprecated and will be removed in a future version.\n",
      "Instructions for updating:\n",
      "Please use alternatives such as official/mnist/dataset.py from tensorflow/models.\n",
      "WARNING:tensorflow:From /mnt/d/tensorflow/local/lib/python2.7/site-packages/tensorflow/contrib/learn/python/learn/datasets/mnist.py:260: maybe_download (from tensorflow.contrib.learn.python.learn.datasets.base) is deprecated and will be removed in a future version.\n",
      "Instructions for updating:\n",
      "Please write your own downloading logic.\n",
      "WARNING:tensorflow:From /mnt/d/tensorflow/local/lib/python2.7/site-packages/tensorflow/contrib/learn/python/learn/datasets/mnist.py:262: extract_images (from tensorflow.contrib.learn.python.learn.datasets.mnist) is deprecated and will be removed in a future version.\n",
      "Instructions for updating:\n",
      "Please use tf.data to implement this functionality.\n",
      "Extracting MNIST_data/train-images-idx3-ubyte.gz\n",
      "WARNING:tensorflow:From /mnt/d/tensorflow/local/lib/python2.7/site-packages/tensorflow/contrib/learn/python/learn/datasets/mnist.py:267: extract_labels (from tensorflow.contrib.learn.python.learn.datasets.mnist) is deprecated and will be removed in a future version.\n",
      "Instructions for updating:\n",
      "Please use tf.data to implement this functionality.\n",
      "Extracting MNIST_data/train-labels-idx1-ubyte.gz\n",
      "WARNING:tensorflow:From /mnt/d/tensorflow/local/lib/python2.7/site-packages/tensorflow/contrib/learn/python/learn/datasets/mnist.py:110: dense_to_one_hot (from tensorflow.contrib.learn.python.learn.datasets.mnist) is deprecated and will be removed in a future version.\n",
      "Instructions for updating:\n",
      "Please use tf.one_hot on tensors.\n",
      "Extracting MNIST_data/t10k-images-idx3-ubyte.gz\n",
      "Extracting MNIST_data/t10k-labels-idx1-ubyte.gz\n",
      "WARNING:tensorflow:From /mnt/d/tensorflow/local/lib/python2.7/site-packages/tensorflow/contrib/learn/python/learn/datasets/mnist.py:290: __init__ (from tensorflow.contrib.learn.python.learn.datasets.mnist) is deprecated and will be removed in a future version.\n",
      "Instructions for updating:\n",
      "Please use alternatives such as official/mnist/dataset.py from tensorflow/models.\n"
     ]
    }
   ],
   "source": [
    "mnist = input_data.read_data_sets(\"MNIST_data/\", one_hot=True)\n",
    "\n",
    "X = tf.placeholder(tf.float32)\n",
    "Y = tf.placeholder(tf.float32)\n",
    "\n",
    "learning_rate = 0.1\n",
    "\n",
    "with tf.name_scope(\"layer1\"):\n",
    "    w1 = tf.Variable(tf.get_variable(\"w1\", shape=[784,100], initializer=tf.contrib.layers.xavier_initializer()))\n",
    "#    w1 = tf.Variable(tf.random_normal([784,100]))\n",
    "    b1 = tf.Variable(tf.random_normal([1]))\n",
    "    layer1 = tf.nn.relu(tf.matmul(X, w1) + b1)\n",
    "\n",
    "    w1_hist = tf.summary.histogram(\"w1\", w1)\n",
    "    b1_hist = tf.summary.histogram(\"b1\", b1)\n",
    "    \n",
    "with tf.name_scope(\"layer2\"):\n",
    "    w2 = tf.Variable(tf.get_variable(\"w2\", shape=[100,10], initializer=tf.contrib.layers.xavier_initializer()))\n",
    "#    w2 = tf.Variable(tf.random_normal([100,10]))\n",
    "    b2 = tf.Variable(tf.random_normal([1]))\n",
    "    \n",
    "    w2_hist = tf.summary.histogram(\"w2\", w2)\n",
    "    b2_hist = tf.summary.histogram(\"b2\", b2)\n",
    "\n",
    "with tf.name_scope(\"cost\"):\n",
    "    hypothesis = tf.matmul(layer1,w2)+b2\n",
    "    cost = tf.reduce_mean(tf.nn.softmax_cross_entropy_with_logits_v2(logits=hypothesis, labels=Y))\n",
    "    train = tf.train.GradientDescentOptimizer(learning_rate=learning_rate).minimize(cost)\n",
    "    \n",
    "    cost_hist = tf.summary.scalar(\"cost\", cost)\n",
    "\n",
    "with tf.name_scope('accuracy'):\n",
    "    pred = tf.argmax(hypothesis, 1)\n",
    "    accuracy = tf.reduce_mean(tf.cast(tf.equal(pred, tf.argmax(Y, 1)), tf.float32))\n",
    "    \n",
    "    accuracy_hist = tf.summary.scalar(\"accuracy\", accuracy)"
   ]
  },
  {
   "cell_type": "code",
   "execution_count": 3,
   "metadata": {},
   "outputs": [
    {
     "name": "stdout",
     "output_type": "stream",
     "text": [
      "epoch 1 accuracy: 0.9188\n",
      "epoch 2 accuracy: 0.9368\n",
      "epoch 3 accuracy: 0.9449\n",
      "epoch 4 accuracy: 0.9528\n",
      "epoch 5 accuracy: 0.9584\n",
      "epoch 6 accuracy: 0.9618\n",
      "epoch 7 accuracy: 0.9641\n",
      "epoch 8 accuracy: 0.9658\n",
      "epoch 9 accuracy: 0.9663\n",
      "epoch 10 accuracy: 0.9693\n",
      "epoch 11 accuracy: 0.9696\n",
      "epoch 12 accuracy: 0.9712\n",
      "epoch 13 accuracy: 0.9721\n",
      "epoch 14 accuracy: 0.9719\n",
      "epoch 15 accuracy: 0.9726\n",
      "epoch 16 accuracy: 0.9725\n",
      "epoch 17 accuracy: 0.9734\n",
      "epoch 18 accuracy: 0.974\n",
      "epoch 19 accuracy: 0.9735\n",
      "epoch 20 accuracy: 0.9746\n"
     ]
    }
   ],
   "source": [
    "with tf.Session() as sess:\n",
    "    summary = tf.summary.merge_all()\n",
    "    writer = tf.summary.FileWriter('./logs/mnist_problem/mnist_nn_xavier')\n",
    "    writer.add_graph(sess.graph)\n",
    "    sess.run(tf.global_variables_initializer())\n",
    "    \n",
    "    for epoch in range(20):\n",
    "        batch_size = 100\n",
    "#for random initialize\n",
    "#        learning_rate = 0.8**(epoch+1)\n",
    "        for step in range(mnist.train.num_examples / batch_size):\n",
    "            x_data, y_data = mnist.train.next_batch(batch_size)\n",
    "            sess.run(train, feed_dict={X:x_data, Y:y_data})\n",
    "        x_test, y_test = mnist.test.next_batch(mnist.test.num_examples)\n",
    "        s, acc = sess.run([summary,accuracy], feed_dict={X:x_test, Y:y_test})\n",
    "        writer.add_summary(s, global_step=str(epoch+1))\n",
    "        \n",
    "        print 'epoch', epoch+1, 'accuracy:', acc"
   ]
  }
 ],
 "metadata": {
  "kernelspec": {
   "display_name": "Tensorflow",
   "language": "python",
   "name": "myenv"
  },
  "language_info": {
   "codemirror_mode": {
    "name": "ipython",
    "version": 2
   },
   "file_extension": ".py",
   "mimetype": "text/x-python",
   "name": "python",
   "nbconvert_exporter": "python",
   "pygments_lexer": "ipython2",
   "version": "2.7.12"
  }
 },
 "nbformat": 4,
 "nbformat_minor": 2
}
