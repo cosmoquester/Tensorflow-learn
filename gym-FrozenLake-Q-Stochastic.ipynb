{
 "cells": [
  {
   "cell_type": "code",
   "execution_count": 1,
   "metadata": {},
   "outputs": [],
   "source": [
    "import gym\n",
    "from gym.envs.registration import register\n",
    "import numpy as np\n",
    "import matplotlib.pyplot as plt\n",
    "\n",
    "\n",
    "# MACROS\n",
    "LEFT = 0\n",
    "DOWN = 1\n",
    "RIGHT = 2\n",
    "UP = 3\n",
    "\n",
    "num_of_episodes = 2000\n",
    "learning_rate = 0.85\n",
    "discount = .99\n",
    "rList=[]\n"
   ]
  },
  {
   "cell_type": "code",
   "execution_count": 2,
   "metadata": {},
   "outputs": [],
   "source": [
    "def show_play(env, Q):\n",
    "    state = env.reset()\n",
    "    env.render()\n",
    "    \n",
    "    while True:\n",
    "        action = np.argmax(Q[state])\n",
    "        state, reward, done, info = env.step(action)\n",
    "        env.render()\n",
    "        print(\"State: \", state, \"Action: \", action,\"Reward: \", reward, \"Info: \", info)\n",
    "        \n",
    "        if done:\n",
    "            break"
   ]
  },
  {
   "cell_type": "code",
   "execution_count": 3,
   "metadata": {},
   "outputs": [
    {
     "name": "stderr",
     "output_type": "stream",
     "text": [
      "/home/psj8252/.local/lib/python2.7/site-packages/ipykernel_launcher.py:12: RuntimeWarning: divide by zero encountered in divide\n",
      "  if sys.path[0] == '':\n"
     ]
    },
    {
     "name": "stdout",
     "output_type": "stream",
     "text": [
      "Success rate: 0.6265\n"
     ]
    },
    {
     "data": {
      "image/png": "[encoded data removed]",
      "text/plain": [
       "<Figure size 432x288 with 1 Axes>"
      ]
     },
     "metadata": {},
     "output_type": "display_data"
    }
   ],
   "source": [
    "env = gym.make('FrozenLake-v0')\n",
    "Q = np.zeros([env.observation_space.n, env.action_space.n])\n",
    "\n",
    "\n",
    "for step in range(num_of_episodes):\n",
    "    \n",
    "    state = env.reset()\n",
    "    rAll = 0\n",
    "    done = False\n",
    "        \n",
    "    while not done:\n",
    "        action = np.argmax(Q[state] + np.random.randn(1,env.action_space.n) / step+1)\n",
    "        new_state, reward, done, info = env.step(action)\n",
    "        Q[state, action] = (1-learning_rate)*Q[state, action] + learning_rate*(reward + discount*np.max(Q[new_state]))\n",
    "        \n",
    "        rAll += reward\n",
    "        state = new_state\n",
    "    rList.append(rAll)\n",
    "\n",
    "print(\"Success rate: \" + str(sum(rList) / num_of_episodes))\n",
    "plt.bar(range(len(rList)), rList, color=\"blue\")\n",
    "plt.show()\n",
    "        "
   ]
  },
  {
   "cell_type": "code",
   "execution_count": 4,
   "metadata": {},
   "outputs": [
    {
     "name": "stdout",
     "output_type": "stream",
     "text": [
      "\n",
      "\u001b[41mS\u001b[0mFFF\n",
      "FHFH\n",
      "FFFH\n",
      "HFFG\n",
      "  (Left)\n",
      "\u001b[41mS\u001b[0mFFF\n",
      "FHFH\n",
      "FFFH\n",
      "HFFG\n",
      "('State: ', 0, 'Action: ', 0, 'Reward: ', 0.0, 'Info: ', {'prob': 0.3333333333333333})\n",
      "  (Left)\n",
      "\u001b[41mS\u001b[0mFFF\n",
      "FHFH\n",
      "FFFH\n",
      "HFFG\n",
      "('State: ', 0, 'Action: ', 0, 'Reward: ', 0.0, 'Info: ', {'prob': 0.3333333333333333})\n",
      "  (Left)\n",
      "\u001b[41mS\u001b[0mFFF\n",
      "FHFH\n",
      "FFFH\n",
      "HFFG\n",
      "('State: ', 0, 'Action: ', 0, 'Reward: ', 0.0, 'Info: ', {'prob': 0.3333333333333333})\n",
      "  (Left)\n",
      "SFFF\n",
      "\u001b[41mF\u001b[0mHFH\n",
      "FFFH\n",
      "HFFG\n",
      "('State: ', 4, 'Action: ', 0, 'Reward: ', 0.0, 'Info: ', {'prob': 0.3333333333333333})\n",
      "  (Left)\n",
      "SFFF\n",
      "\u001b[41mF\u001b[0mHFH\n",
      "FFFH\n",
      "HFFG\n",
      "('State: ', 4, 'Action: ', 0, 'Reward: ', 0.0, 'Info: ', {'prob': 0.3333333333333333})\n",
      "  (Left)\n",
      "\u001b[41mS\u001b[0mFFF\n",
      "FHFH\n",
      "FFFH\n",
      "HFFG\n",
      "('State: ', 0, 'Action: ', 0, 'Reward: ', 0.0, 'Info: ', {'prob': 0.3333333333333333})\n",
      "  (Left)\n",
      "SFFF\n",
      "\u001b[41mF\u001b[0mHFH\n",
      "FFFH\n",
      "HFFG\n",
      "('State: ', 4, 'Action: ', 0, 'Reward: ', 0.0, 'Info: ', {'prob': 0.3333333333333333})\n",
      "  (Left)\n",
      "SFFF\n",
      "\u001b[41mF\u001b[0mHFH\n",
      "FFFH\n",
      "HFFG\n",
      "('State: ', 4, 'Action: ', 0, 'Reward: ', 0.0, 'Info: ', {'prob': 0.3333333333333333})\n",
      "  (Left)\n",
      "SFFF\n",
      "FHFH\n",
      "\u001b[41mF\u001b[0mFFH\n",
      "HFFG\n",
      "('State: ', 8, 'Action: ', 0, 'Reward: ', 0.0, 'Info: ', {'prob': 0.3333333333333333})\n",
      "  (Up)\n",
      "SFFF\n",
      "FHFH\n",
      "\u001b[41mF\u001b[0mFFH\n",
      "HFFG\n",
      "('State: ', 8, 'Action: ', 3, 'Reward: ', 0.0, 'Info: ', {'prob': 0.3333333333333333})\n",
      "  (Up)\n",
      "SFFF\n",
      "FHFH\n",
      "F\u001b[41mF\u001b[0mFH\n",
      "HFFG\n",
      "('State: ', 9, 'Action: ', 3, 'Reward: ', 0.0, 'Info: ', {'prob': 0.3333333333333333})\n",
      "  (Down)\n",
      "SFFF\n",
      "FHFH\n",
      "FF\u001b[41mF\u001b[0mH\n",
      "HFFG\n",
      "('State: ', 10, 'Action: ', 1, 'Reward: ', 0.0, 'Info: ', {'prob': 0.3333333333333333})\n",
      "  (Left)\n",
      "SFFF\n",
      "FHFH\n",
      "FFFH\n",
      "HF\u001b[41mF\u001b[0mG\n",
      "('State: ', 14, 'Action: ', 0, 'Reward: ', 0.0, 'Info: ', {'prob': 0.3333333333333333})\n",
      "  (Down)\n",
      "SFFF\n",
      "FHFH\n",
      "FFFH\n",
      "HF\u001b[41mF\u001b[0mG\n",
      "('State: ', 14, 'Action: ', 1, 'Reward: ', 0.0, 'Info: ', {'prob': 0.3333333333333333})\n",
      "  (Down)\n",
      "SFFF\n",
      "FHFH\n",
      "FFFH\n",
      "HFF\u001b[41mG\u001b[0m\n",
      "('State: ', 15, 'Action: ', 1, 'Reward: ', 1.0, 'Info: ', {'prob': 0.3333333333333333})\n"
     ]
    }
   ],
   "source": [
    "show_play(env, Q)"
   ]
  }
 ],
 "metadata": {
  "kernelspec": {
   "display_name": "Tensorflow",
   "language": "python",
   "name": "myenv"
  },
  "language_info": {
   "codemirror_mode": {
    "name": "ipython",
    "version": 2
   },
   "file_extension": ".py",
   "mimetype": "text/x-python",
   "name": "python",
   "nbconvert_exporter": "python",
   "pygments_lexer": "ipython2",
   "version": "2.7.12"
  }
 },
 "nbformat": 4,
 "nbformat_minor": 2
}
