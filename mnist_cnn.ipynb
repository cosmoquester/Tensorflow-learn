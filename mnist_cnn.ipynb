{
 "cells": [
  {
   "cell_type": "code",
   "execution_count": 1,
   "metadata": {},
   "outputs": [],
   "source": [
    "import tensorflow as tf\n",
    "from tensorflow.examples.tutorials.mnist import input_data"
   ]
  },
  {
   "cell_type": "code",
   "execution_count": 2,
   "metadata": {},
   "outputs": [
    {
     "name": "stdout",
     "output_type": "stream",
     "text": [
      "WARNING:tensorflow:From <ipython-input-2-d84f65724732>:1: read_data_sets (from tensorflow.contrib.learn.python.learn.datasets.mnist) is deprecated and will be removed in a future version.\n",
      "Instructions for updating:\n",
      "Please use alternatives such as official/mnist/dataset.py from tensorflow/models.\n",
      "WARNING:tensorflow:From /mnt/d/tensorflow/local/lib/python2.7/site-packages/tensorflow/contrib/learn/python/learn/datasets/mnist.py:260: maybe_download (from tensorflow.contrib.learn.python.learn.datasets.base) is deprecated and will be removed in a future version.\n",
      "Instructions for updating:\n",
      "Please write your own downloading logic.\n",
      "WARNING:tensorflow:From /mnt/d/tensorflow/local/lib/python2.7/site-packages/tensorflow/contrib/learn/python/learn/datasets/mnist.py:262: extract_images (from tensorflow.contrib.learn.python.learn.datasets.mnist) is deprecated and will be removed in a future version.\n",
      "Instructions for updating:\n",
      "Please use tf.data to implement this functionality.\n",
      "Extracting MNIST_data/train-images-idx3-ubyte.gz\n",
      "WARNING:tensorflow:From /mnt/d/tensorflow/local/lib/python2.7/site-packages/tensorflow/contrib/learn/python/learn/datasets/mnist.py:267: extract_labels (from tensorflow.contrib.learn.python.learn.datasets.mnist) is deprecated and will be removed in a future version.\n",
      "Instructions for updating:\n",
      "Please use tf.data to implement this functionality.\n",
      "Extracting MNIST_data/train-labels-idx1-ubyte.gz\n",
      "WARNING:tensorflow:From /mnt/d/tensorflow/local/lib/python2.7/site-packages/tensorflow/contrib/learn/python/learn/datasets/mnist.py:110: dense_to_one_hot (from tensorflow.contrib.learn.python.learn.datasets.mnist) is deprecated and will be removed in a future version.\n",
      "Instructions for updating:\n",
      "Please use tf.one_hot on tensors.\n",
      "Extracting MNIST_data/t10k-images-idx3-ubyte.gz\n",
      "Extracting MNIST_data/t10k-labels-idx1-ubyte.gz\n",
      "WARNING:tensorflow:From /mnt/d/tensorflow/local/lib/python2.7/site-packages/tensorflow/contrib/learn/python/learn/datasets/mnist.py:290: __init__ (from tensorflow.contrib.learn.python.learn.datasets.mnist) is deprecated and will be removed in a future version.\n",
      "Instructions for updating:\n",
      "Please use alternatives such as official/mnist/dataset.py from tensorflow/models.\n"
     ]
    }
   ],
   "source": [
    "mnist = input_data.read_data_sets(\"MNIST_data/\", one_hot=True)\n",
    "learning_rate = 0.001\n",
    "\n",
    "X = tf.placeholder(tf.float32, [None, 784])\n",
    "Y = tf.placeholder(tf.float32)\n",
    "X_img = tf.reshape(X, [-1, 28, 28, 1])\n",
    "\n",
    "with tf.name_scope(\"layer1\"):\n",
    "    # 28 x 28 -> 25 x 25\n",
    "    w1 = tf.Variable(tf.get_variable(\"w1\", shape=[4,4,1,32], initializer=tf.contrib.layers.xavier_initializer()))\n",
    "    _conv1 = tf.nn.conv2d(X_img, w1, strides=[1,1,1,1], padding='VALID')\n",
    "    conv1 = tf.nn.relu(_conv1)\n",
    "    layer1 = tf.nn.max_pool(conv1, ksize=[1,2,2,1], strides=[1,1,1,1], padding='VALID')\n",
    "    # layer1.shape = [n, 24, 24, 32]\n",
    "    \n",
    "with tf.name_scope(\"layer2\"):\n",
    "    # 24 x 24 -> 21 x 21\n",
    "    w2 = tf.Variable(tf.get_variable(\"w2\", shape=[4,4,32,64], initializer=tf.contrib.layers.xavier_initializer()))\n",
    "    _conv2 = tf.nn.conv2d(layer1, w2, strides=[1,1,1,1], padding='VALID')\n",
    "    conv2 = tf.nn.relu(_conv2)\n",
    "    layer2 = tf.nn.max_pool(conv2, ksize=[1,4,4,1], strides=[1,1,1,1], padding='VALID')\n",
    "    # 21 x 21 -> 18 x 18\n",
    "\n",
    "with tf.name_scope(\"layer3\"):\n",
    "    w3 = tf.Variable(tf.get_variable(\"w3\", shape=[18 * 18 * 64, 10], initializer=tf.contrib.layers.xavier_initializer()))\n",
    "    b = tf.Variable(tf.zeros([10]))\n",
    "    \n",
    "with tf.name_scope(\"cost\"):\n",
    "    logit = tf.matmul(tf.reshape(layer2,[-1,18*18*64]), w3) + b\n",
    "    cost = tf.reduce_mean(tf.nn.softmax_cross_entropy_with_logits_v2(logits=logit, labels=Y))\n",
    "    train = tf.train.AdamOptimizer(learning_rate=learning_rate).minimize(cost)\n",
    "    \n",
    "    cost_hist = tf.summary.scalar(\"cost\", cost)\n",
    "\n",
    "with tf.name_scope(\"predict\"):\n",
    "    pred = tf.argmax(logit, 1)\n",
    "    accuray = tf.reduce_mean(tf.cast(tf.equal(pred, tf.argmax(Y, 1)), tf.float32))\n",
    "    \n",
    "    accuray_hist = tf.summary.scalar(\"accuracy\",accuray)"
   ]
  },
  {
   "cell_type": "code",
   "execution_count": 3,
   "metadata": {},
   "outputs": [
    {
     "name": "stdout",
     "output_type": "stream",
     "text": [
      "1 accuracy: 98.55999946594238 %\n",
      "2 accuracy: 98.9799976348877 %\n",
      "3 accuracy: 99.33000206947327 %\n",
      "4 accuracy: 99.11999702453613 %\n",
      "5 accuracy: 99.23999905586243 %\n"
     ]
    }
   ],
   "source": [
    "with tf.Session() as sess:\n",
    "    summary = tf.summary.merge_all()\n",
    "    writer = tf.summary.FileWriter('./logs/mnist_problem/mnist_cnn')\n",
    "    writer.add_graph(sess.graph)\n",
    "    sess.run(tf.global_variables_initializer())\n",
    "    \n",
    "    for epoch in range(5):\n",
    "        batch_size = 100\n",
    "        \n",
    "        for step in range(mnist.train.num_examples / batch_size):\n",
    "            x_data, y_data = mnist.train.next_batch(batch_size=batch_size)            \n",
    "            sess.run(train, feed_dict={X:x_data, Y:y_data})\n",
    "        x_test, y_test = mnist.test.next_batch(mnist.test.num_examples)\n",
    "        s, accu = sess.run([summary, accuray], feed_dict={X:x_test, Y:y_test})\n",
    "        writer.add_summary(s, global_step=str(epoch+1))\n",
    "        \n",
    "        print epoch+1, 'accuracy:', accu*100,'%'\n",
    "    "
   ]
  },
  {
   "cell_type": "code",
   "execution_count": null,
   "metadata": {},
   "outputs": [],
   "source": []
  }
 ],
 "metadata": {
  "kernelspec": {
   "display_name": "Tensorflow",
   "language": "python",
   "name": "myenv"
  },
  "language_info": {
   "codemirror_mode": {
    "name": "ipython",
    "version": 2
   },
   "file_extension": ".py",
   "mimetype": "text/x-python",
   "name": "python",
   "nbconvert_exporter": "python",
   "pygments_lexer": "ipython2",
   "version": "2.7.12"
  }
 },
 "nbformat": 4,
 "nbformat_minor": 2
}
