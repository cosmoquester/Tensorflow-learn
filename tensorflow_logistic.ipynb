{
 "cells": [
  {
   "cell_type": "code",
   "execution_count": 1,
   "metadata": {},
   "outputs": [],
   "source": [
    "import tensorflow as tf"
   ]
  },
  {
   "cell_type": "code",
   "execution_count": 2,
   "metadata": {},
   "outputs": [],
   "source": [
    "x_data = [[1, 2], [2, 3], [3, 1], [4, 3], [5, 3], [6, 2]]\n",
    "y_data = [[0], [0], [0], [1], [1], [1]]\n",
    "\n",
    "X = tf.placeholder(tf.float32, shape=[None, 2])\n",
    "Y = tf.placeholder(tf.float32, shape=[None, 1])\n",
    "\n",
    "w = tf.Variable(tf.random_normal([2,1]))\n",
    "b = tf.Variable(tf.random_normal([1]))\n",
    "\n",
    "hypo = tf.sigmoid(tf.matmul(X, w) + b)\n",
    "cost = -tf.reduce_mean(Y * tf.log(hypo) + (1 - Y) * tf.log(1 - hypo))\n",
    "optimizer = tf.train.GradientDescentOptimizer(0.01)\n",
    "train = optimizer.minimize(cost)\n",
    "\n",
    "# tf.equal is not ' == '\n",
    "pred = tf.cast(hypo > 0.5, dtype='float32')\n",
    "accuracy = tf.reduce_mean(tf.cast(tf.equal(pred, Y), dtype='float32'))"
   ]
  },
  {
   "cell_type": "code",
   "execution_count": 3,
   "metadata": {},
   "outputs": [
    {
     "name": "stdout",
     "output_type": "stream",
     "text": [
      "w: [[ 0.37466505 -2.1120431 ]]  b: [-0.10878941]\n",
      "w: [[ 0.9799301 -0.6334358]]  b: [-1.4831913]\n",
      "w: [[ 1.079587   -0.24396689]]  b: [-2.8102515]\n",
      "w: [[ 1.2126094  -0.00480331]]  b: [-3.869636]\n",
      "w: [[1.3392904  0.16639504]]  b: [-4.732976]\n",
      "w: [[1.4548558  0.29759774]]  b: [-5.4557595]\n",
      "w: [[1.5596285  0.40288544]]  b: [-6.0752544]\n",
      "w: [[1.6548893  0.49030676]]  b: [-6.6165133]\n",
      "w: [[1.7419764 0.5648012]]  b: [-7.096805]\n",
      "w: [[1.8220688 0.6295737]]  b: [-7.5284004]\n",
      "w: [[1.8961519 0.6868009]]  b: [-7.9202714]\n",
      "[[0.]\n",
      " [0.]\n",
      " [0.]\n",
      " [1.]\n",
      " [1.]\n",
      " [1.]]\n",
      "[[ True]\n",
      " [ True]\n",
      " [ True]\n",
      " [ True]\n",
      " [ True]\n",
      " [ True]]\n",
      "1.0\n"
     ]
    }
   ],
   "source": [
    "with tf.Session() as sess:\n",
    "    sess.run(tf.initialize_all_variables())\n",
    "    \n",
    "    for step in range(20001):\n",
    "        sess.run(train, feed_dict={X:x_data, Y:y_data})\n",
    "        if step % 2000 == 0:\n",
    "            print \"w:\",sess.run(tf.reshape(w, [1,2])),\" b:\",sess.run(b)\n",
    "    '''\n",
    "    print sess.run(pred, feed_dict={X:x_data, Y:y_data})\n",
    "    print sess.run(tf.equal(pred, Y), feed_dict={X:x_data, Y:y_data})\n",
    "#    print sess.run(tf.reduce_mean(tf.equal(pred, Y)))\n",
    "    '''\n",
    "    \n",
    "    print sess.run(accuracy, feed_dict={X:x_data, Y:y_data})"
   ]
  },
  {
   "cell_type": "code",
   "execution_count": null,
   "metadata": {},
   "outputs": [],
   "source": []
  }
 ],
 "metadata": {
  "kernelspec": {
   "display_name": "Tensorflow",
   "language": "python",
   "name": "myenv"
  },
  "language_info": {
   "codemirror_mode": {
    "name": "ipython",
    "version": 2
   },
   "file_extension": ".py",
   "mimetype": "text/x-python",
   "name": "python",
   "nbconvert_exporter": "python",
   "pygments_lexer": "ipython2",
   "version": "2.7.12"
  }
 },
 "nbformat": 4,
 "nbformat_minor": 2
}
