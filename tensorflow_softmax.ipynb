{
 "cells": [
  {
   "cell_type": "code",
   "execution_count": 1,
   "metadata": {},
   "outputs": [],
   "source": [
    "import tensorflow as tf"
   ]
  },
  {
   "cell_type": "code",
   "execution_count": 23,
   "metadata": {},
   "outputs": [],
   "source": [
    "x_data = [[1, 2, 1, 1], [2, 1, 3, 2], [3, 1, 3, 4], [4, 1, 5, 5], [1, 7, 5, 5],[1, 2, 5, 6], [1, 6, 6, 6], [1, 7, 7, 7]]\n",
    "# one hot encoding!\n",
    "y_data = [[0, 0, 1], [0, 0, 1], [0, 0, 1], [0, 1, 0], [0, 1, 0], [0, 1, 0], [1, 0, 0], [1, 0, 0]]\n",
    "\n",
    "\n",
    "X = tf.placeholder(\"float\", [None, 4])\n",
    "Y = tf.placeholder(\"float\", [None, 3])\n",
    "\n",
    "w = tf.Variable(tf.random_normal([4,3]))\n",
    "b = tf.Variable(tf.random_normal([3]))\n",
    "\n",
    "hypothesis = tf.nn.softmax(tf.matmul(X, w) + b)\n",
    "cost = tf.reduce_mean(-tf.reduce_sum(Y * tf.log(hypothesis), axis=1))\n",
    "#cost_i = tf.reduce_mean(tf.nn.softmax_cross_entropy_with_logits_v2(logits=tf.matmul(X, w) + b, labels=y_data))\n",
    "train = tf.train.GradientDescentOptimizer(learning_rate=0.1).minimize(cost)\n",
    "\n",
    "accuracy = tf.reduce_mean(tf.cast(tf.equal(tf.argmax(hypothesis, 1), tf.argmax(y_data, 1)), tf.float32))"
   ]
  },
  {
   "cell_type": "code",
   "execution_count": 26,
   "metadata": {},
   "outputs": [
    {
     "name": "stdout",
     "output_type": "stream",
     "text": [
      "3.2471867\n",
      "0.15380764\n",
      "0.0897565\n",
      "0.06301197\n",
      "0.048440736\n",
      "0.039300863\n",
      "0.03304279\n",
      "0.028493477\n",
      "0.02503904\n",
      "0.022327987\n",
      "0.020144451\n",
      "Accuracy: 1.0\n"
     ]
    }
   ],
   "source": [
    "with tf.Session() as sess:\n",
    "    sess.run(tf.global_variables_initializer())\n",
    "    '''\n",
    "    print sess.run(hypothesis, feed_dict={X:x_data, Y:y_data})\n",
    "    print sess.run(tf.log(hypothesis), feed_dict={X:x_data, Y:y_data})\n",
    "    print sess.run(-Y * tf.log(hypothesis), feed_dict={X:x_data, Y:y_data})\n",
    "    print 'reduce_sum', sess.run(-tf.reduce_sum(Y * tf.log(hypothesis), axis=1), feed_dict={X:x_data, Y:y_data})\n",
    "    print 'reduce_mean', sess.run(cost, feed_dict={X:x_data, Y:y_data})\n",
    "    print sess.run(tf.constant([1,2,3,4,5])*tf.constant([1,2,3,4,5]))\n",
    "    #argmax의 axis는 숫자가 커질수록 더 안쪽의 차원을 지운다 \n",
    "    #ex) axis=0은 제일 바깥의 차원인 행간의 경계를 없애고 최댓값index반환.\n",
    "    print sess.run(tf.argmax([[1,2,3],[9,5,6], [10,0,6]], axis=1))\n",
    "    print sess.run(tf.argmax([[1,2,3],[9,5,6]], axis=0))\n",
    "    print sess.run(tf.argmax(hypothesis, axis=1), feed_dict={X:x_data, Y:y_data})\n",
    "    '''\n",
    "\n",
    "    for step in range(20001):\n",
    "        sess.run(train, feed_dict={X:x_data, Y:y_data})\n",
    "        if step % 2000 == 0:\n",
    "            print sess.run(cost, feed_dict={X:x_data, Y:y_data})\n",
    " #           print sess.run(cost_i, feed_dict={X:x_data, Y:y_data})\n",
    "    print \"Accuracy:\", sess.run(accuracy, feed_dict={X:x_data, Y:y_data})\n",
    "\n",
    "    \n"
   ]
  },
  {
   "cell_type": "code",
   "execution_count": null,
   "metadata": {},
   "outputs": [],
   "source": []
  },
  {
   "cell_type": "code",
   "execution_count": null,
   "metadata": {},
   "outputs": [],
   "source": []
  }
 ],
 "metadata": {
  "kernelspec": {
   "display_name": "Tensorflow",
   "language": "python",
   "name": "myenv"
  },
  "language_info": {
   "codemirror_mode": {
    "name": "ipython",
    "version": 2
   },
   "file_extension": ".py",
   "mimetype": "text/x-python",
   "name": "python",
   "nbconvert_exporter": "python",
   "pygments_lexer": "ipython2",
   "version": "2.7.12"
  }
 },
 "nbformat": 4,
 "nbformat_minor": 2
}
