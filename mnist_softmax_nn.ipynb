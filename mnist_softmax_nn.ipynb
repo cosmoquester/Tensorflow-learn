{
 "cells": [
  {
   "cell_type": "code",
   "execution_count": 1,
   "metadata": {},
   "outputs": [],
   "source": [
    "import tensorflow as tf\n",
    "from tensorflow.examples.tutorials.mnist import input_data"
   ]
  },
  {
   "cell_type": "code",
   "execution_count": 2,
   "metadata": {},
   "outputs": [
    {
     "name": "stdout",
     "output_type": "stream",
     "text": [
      "WARNING:tensorflow:From <ipython-input-2-56abdb5a6b42>:1: read_data_sets (from tensorflow.contrib.learn.python.learn.datasets.mnist) is deprecated and will be removed in a future version.\n",
      "Instructions for updating:\n",
      "Please use alternatives such as official/mnist/dataset.py from tensorflow/models.\n",
      "WARNING:tensorflow:From /mnt/d/tensorflow/local/lib/python2.7/site-packages/tensorflow/contrib/learn/python/learn/datasets/mnist.py:260: maybe_download (from tensorflow.contrib.learn.python.learn.datasets.base) is deprecated and will be removed in a future version.\n",
      "Instructions for updating:\n",
      "Please write your own downloading logic.\n",
      "WARNING:tensorflow:From /mnt/d/tensorflow/local/lib/python2.7/site-packages/tensorflow/contrib/learn/python/learn/datasets/mnist.py:262: extract_images (from tensorflow.contrib.learn.python.learn.datasets.mnist) is deprecated and will be removed in a future version.\n",
      "Instructions for updating:\n",
      "Please use tf.data to implement this functionality.\n",
      "Extracting MNIST_data/train-images-idx3-ubyte.gz\n",
      "WARNING:tensorflow:From /mnt/d/tensorflow/local/lib/python2.7/site-packages/tensorflow/contrib/learn/python/learn/datasets/mnist.py:267: extract_labels (from tensorflow.contrib.learn.python.learn.datasets.mnist) is deprecated and will be removed in a future version.\n",
      "Instructions for updating:\n",
      "Please use tf.data to implement this functionality.\n",
      "Extracting MNIST_data/train-labels-idx1-ubyte.gz\n",
      "WARNING:tensorflow:From /mnt/d/tensorflow/local/lib/python2.7/site-packages/tensorflow/contrib/learn/python/learn/datasets/mnist.py:110: dense_to_one_hot (from tensorflow.contrib.learn.python.learn.datasets.mnist) is deprecated and will be removed in a future version.\n",
      "Instructions for updating:\n",
      "Please use tf.one_hot on tensors.\n",
      "Extracting MNIST_data/t10k-images-idx3-ubyte.gz\n",
      "Extracting MNIST_data/t10k-labels-idx1-ubyte.gz\n",
      "WARNING:tensorflow:From /mnt/d/tensorflow/local/lib/python2.7/site-packages/tensorflow/contrib/learn/python/learn/datasets/mnist.py:290: __init__ (from tensorflow.contrib.learn.python.learn.datasets.mnist) is deprecated and will be removed in a future version.\n",
      "Instructions for updating:\n",
      "Please use alternatives such as official/mnist/dataset.py from tensorflow/models.\n"
     ]
    }
   ],
   "source": [
    "mnist = input_data.read_data_sets(\"MNIST_data/\", one_hot=True)\n",
    "\n",
    "X = tf.placeholder(tf.float32)\n",
    "Y = tf.placeholder(tf.float32)\n",
    "\n",
    "with tf.name_scope(\"softmax\"):\n",
    "#    w = tf.Variable(tf.get_variable(\"w\", shape=[784,10], initializer=tf.contrib.layers.xavier_initializer()))\n",
    "    w = tf.Variable(tf.random_normal([784,10]))\n",
    "    b = tf.Variable(tf.random_normal([1]))\n",
    "    \n",
    "    w_hist = tf.summary.histogram(\"w\", w)\n",
    "    b_hist = tf.summary.histogram(\"b\", b)\n",
    "\n",
    "with tf.name_scope(\"cost\"):\n",
    "    hypothesis = tf.matmul(X,w)+b\n",
    "    cost = tf.reduce_mean(tf.nn.softmax_cross_entropy_with_logits_v2(logits=hypothesis, labels=Y))\n",
    "    train = tf.train.GradientDescentOptimizer(learning_rate=0.05).minimize(cost)\n",
    "    \n",
    "    cost_hist = tf.summary.scalar(\"cost\", cost)\n",
    "\n",
    "with tf.name_scope('accuracy'):\n",
    "    pred = tf.argmax(tf.nn.softmax(hypothesis), 1)\n",
    "    accuracy = tf.reduce_mean(tf.cast(tf.equal(pred, tf.argmax(Y, 1)), tf.float32))\n",
    "    \n",
    "    accuracy_hist = tf.summary.scalar(\"accuracy\", accuracy)"
   ]
  },
  {
   "cell_type": "code",
   "execution_count": 3,
   "metadata": {},
   "outputs": [
    {
     "name": "stdout",
     "output_type": "stream",
     "text": [
      "epoch 1 accuracy: 0.6793\n",
      "epoch 2 accuracy: 0.762\n",
      "epoch 3 accuracy: 0.7995\n",
      "epoch 4 accuracy: 0.8147\n",
      "epoch 5 accuracy: 0.8268\n",
      "epoch 6 accuracy: 0.8371\n",
      "epoch 7 accuracy: 0.8452\n",
      "epoch 8 accuracy: 0.851\n",
      "epoch 9 accuracy: 0.8561\n",
      "epoch 10 accuracy: 0.8598\n",
      "epoch 11 accuracy: 0.8636\n",
      "epoch 12 accuracy: 0.8657\n",
      "epoch 13 accuracy: 0.8676\n",
      "epoch 14 accuracy: 0.8686\n",
      "epoch 15 accuracy: 0.872\n",
      "epoch 16 accuracy: 0.8747\n",
      "epoch 17 accuracy: 0.8751\n",
      "epoch 18 accuracy: 0.8768\n",
      "epoch 19 accuracy: 0.878\n",
      "epoch 20 accuracy: 0.8795\n"
     ]
    }
   ],
   "source": [
    "with tf.Session() as sess:\n",
    "    summary = tf.summary.merge_all()\n",
    "    writer = tf.summary.FileWriter('./logs/mnist_problem/mnist_softmax_nn')\n",
    "    writer.add_graph(sess.graph)\n",
    "    sess.run(tf.global_variables_initializer())\n",
    "    \n",
    "    for epoch in range(20):\n",
    "        batch_size = 100\n",
    "        \n",
    "        for step in range(mnist.train.num_examples / batch_size):\n",
    "            x_data, y_data = mnist.train.next_batch(batch_size)\n",
    "            sess.run(train, feed_dict={X:x_data, Y:y_data})\n",
    "        \n",
    "        x_test, y_test = mnist.test.next_batch(mnist.test.num_examples)\n",
    "        s, acc = sess.run([summary,accuracy], feed_dict={X:x_test, Y:y_test})\n",
    "        writer.add_summary(s, global_step=str(epoch+1))\n",
    "        \n",
    "        print 'epoch', epoch+1, 'accuracy:', acc"
   ]
  }
 ],
 "metadata": {
  "kernelspec": {
   "display_name": "Tensorflow",
   "language": "python",
   "name": "myenv"
  },
  "language_info": {
   "codemirror_mode": {
    "name": "ipython",
    "version": 2
   },
   "file_extension": ".py",
   "mimetype": "text/x-python",
   "name": "python",
   "nbconvert_exporter": "python",
   "pygments_lexer": "ipython2",
   "version": "2.7.12"
  }
 },
 "nbformat": 4,
 "nbformat_minor": 2
}
