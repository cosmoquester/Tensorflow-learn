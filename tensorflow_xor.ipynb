{
 "cells": [
  {
   "cell_type": "code",
   "execution_count": 1,
   "metadata": {},
   "outputs": [],
   "source": [
    "import tensorflow as tf\n",
    "#import numpy as np"
   ]
  },
  {
   "cell_type": "code",
   "execution_count": 2,
   "metadata": {},
   "outputs": [],
   "source": [
    "x_data = [[0.,0.],[0.,1.],[1.,0.],[1.,1.]]\n",
    "y_data = [[0.],[1.],[1.],[0.]]\n",
    "#x_data = np.array([[0, 0], [0, 1], [1, 0], [1, 1]], dtype=np.float32)\n",
    "#y_data = np.array([[0], [1], [1], [0]], dtype=np.float32)\n",
    "#x_data = [[0,0],[0,1],[1,0],[1,1]]\n",
    "#y_data = [[0],[1],[1],[0]]\n",
    "\n",
    "X = tf.placeholder(tf.float32)\n",
    "Y = tf.placeholder(tf.float32)\n",
    "#X_x = tf.placeholder(tf.float32)\n",
    "#Y_x = tf.placeholder(tf.float32)\n",
    "\n",
    "with tf.name_scope(\"layer1\") as scope:\n",
    "#    w1 = tf.Variable(tf.random_normal([2,4]))\n",
    "#xavier initialzie\n",
    "    w1 = tf.Variable(tf.get_variable(\"w1\", shape=[2, 4],initializer=tf.contrib.layers.xavier_initializer()))\n",
    "    b1 = tf.Variable(tf.zeros([4]))\n",
    "#    layer1 = tf.sigmoid(tf.matmul(X, w1)+b1)\n",
    "    layer1 = tf.nn.relu(tf.matmul(X, w1)+b1)\n",
    "\n",
    "    \n",
    "    w1_hist = tf.summary.histogram(\"weight1\", w1)\n",
    "    b1_hist = tf.summary.histogram(\"bias1\", b1)\n",
    "    layer1_hist = tf.summary.histogram(\"layer1\", layer1)\n",
    "\n",
    "with tf.name_scope(\"layer2\") as scope:\n",
    "#    w2 = tf.Variable(tf.random_normal([4,1]))\n",
    "#xavier initialzie\n",
    "    w2 = tf.Variable(tf.get_variable(\"w2\", shape=[4, 1],initializer=tf.contrib.layers.xavier_initializer()))\n",
    "    b2 = tf.Variable(tf.zeros([1]))\n",
    "    hypothesis = tf.sigmoid(tf.matmul(layer1,w2) + b2)\n",
    "    \n",
    "    w2_hist = tf.summary.histogram(\"weight2\", w2)\n",
    "    b2_hist = tf.summary.histogram(\"bias2\", b2)\n",
    "    hypothesis_hist = tf.summary.histogram(\"hypothesis\", hypothesis)\n",
    "    \n",
    "\n",
    "with tf.name_scope(\"cost\") as scope:\n",
    "    cost = -tf.reduce_mean(Y*tf.log(hypothesis)+(1-Y)*tf.log(1-hypothesis))\n",
    "    train = tf.train.GradientDescentOptimizer(0.1).minimize(cost)\n",
    "    \n",
    "    cost_hist = tf.summary.scalar(\"cost\", cost)\n",
    "                          \n",
    "with tf.name_scope(\"predict\") as scope:\n",
    "    pred = tf.cast(hypothesis > 0.5, tf.float32)\n",
    "    accuracy = tf.reduce_mean(tf.cast(tf.equal(pred, Y), tf.float32))\n",
    "    \n",
    "    accuracy_hist = tf.summary.scalar(\"accuracy\", accuracy)"
   ]
  },
  {
   "cell_type": "code",
   "execution_count": 3,
   "metadata": {},
   "outputs": [
    {
     "name": "stdout",
     "output_type": "stream",
     "text": [
      "[[0.3244301 ]\n",
      " [0.99892163]\n",
      " [0.9995192 ]\n",
      " [0.3244301 ]]\n",
      "[[0.]\n",
      " [1.]\n",
      " [0.]\n",
      " [0.]]\n",
      "1.0\n"
     ]
    }
   ],
   "source": [
    "with tf.Session() as sess:\n",
    "    summary = tf.summary.merge_all()\n",
    "    sess.run(tf.global_variables_initializer())\n",
    "    writer = tf.summary.FileWriter('./logs/xor_relu_xav.init/')\n",
    "    writer.add_graph(sess.graph)\n",
    "    '''\n",
    "    print sess.run(layer1, feed_dict={X:x_data, Y:y_data})\n",
    "    print sess.run(layer1, feed_dict={X:x_data_x, Y:y_data_x})\n",
    "    print sess.run(hypothesis, feed_dict={X:x_data, Y:y_data})\n",
    "    print sess.run(hypothesis, feed_dict={X:x_data_x, Y:y_data_x})\n",
    "    print sess.run(cost, feed_dict={X:x_data, Y:y_data})\n",
    "    print sess.run(cost, feed_dict={X:x_data_x, Y:y_data_x})\n",
    "    print sess.run([X,Y], feed_dict={X:x_data, Y:y_data})\n",
    "    print sess.run([X,Y], feed_dict={X:x_data_x, Y:y_data_x})\n",
    "    '''\n",
    "\n",
    "    for step in range(10000):\n",
    "        s, _ = sess.run([summary, train], feed_dict={X:x_data, Y:y_data})\n",
    "        writer.add_summary(s, global_step=str(step))\n",
    "#        if step % 1000 == 0:\n",
    "#            print sess.run(w1), sess.run(b1), sess.run(w2), sess.run(b2)\n",
    "    print sess.run(hypothesis, feed_dict={X:x_data, Y:y_data})\n",
    "    print sess.run(pred, feed_dict={X:x_data, Y:y_data})\n",
    "    print sess.run(accuracy, feed_dict={X:x_data, Y:y_data})\n",
    "    "
   ]
  },
  {
   "cell_type": "code",
   "execution_count": null,
   "metadata": {},
   "outputs": [],
   "source": []
  }
 ],
 "metadata": {
  "kernelspec": {
   "display_name": "Tensorflow",
   "language": "python",
   "name": "myenv"
  },
  "language_info": {
   "codemirror_mode": {
    "name": "ipython",
    "version": 2
   },
   "file_extension": ".py",
   "mimetype": "text/x-python",
   "name": "python",
   "nbconvert_exporter": "python",
   "pygments_lexer": "ipython2",
   "version": "2.7.12"
  }
 },
 "nbformat": 4,
 "nbformat_minor": 2
}
