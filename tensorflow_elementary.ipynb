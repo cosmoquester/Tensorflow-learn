{
 "cells": [
  {
   "cell_type": "code",
   "execution_count": 1,
   "metadata": {},
   "outputs": [],
   "source": [
    "import tensorflow as tf\n",
    "import numpy as np"
   ]
  },
  {
   "cell_type": "code",
   "execution_count": 2,
   "metadata": {},
   "outputs": [],
   "source": [
    "x_data = [1,2,3,4,5,6]\n",
    "y_data = [7,9,11,13,15,17]\n",
    "\n",
    "w = tf.Variable(tf.random_normal([1]))\n",
    "b = tf.Variable(tf.random_normal([1]))\n",
    "\n",
    "# tf.matmul은 2 rank 이상의 float에 대해 사용가능\n",
    "hyp = x_data*w + b\n",
    "# tf.reduce_mean 은 matrix의 모든 원소의 평균을 구함 (소수점이하 손실)\n",
    "cost = tf.reduce_mean(tf.square(hyp-y_data))\n",
    "optimizer = tf.train.GradientDescentOptimizer(0.001)\n",
    "train = optimizer.minimize(cost)"
   ]
  },
  {
   "cell_type": "code",
   "execution_count": 3,
   "metadata": {},
   "outputs": [],
   "source": [
    "x = tf.placeholder(tf.float32)\n",
    "y = tf.placeholder(tf.float32)\n",
    "\n",
    "# tf.matmul은 2 rank 이상의 float에 대해 사용가능\n",
    "hyp2 = x*w + b\n",
    "# tf.reduce_mean 은 matrix의 모든 원소의 평균을 구함 (소수점이하 손실)\n",
    "cost2 = tf.reduce_mean(tf.square(hyp-y))\n",
    "optimizer2 = tf.train.GradientDescentOptimizer(0.001)\n",
    "train2 = optimizer2.minimize(cost2)"
   ]
  },
  {
   "cell_type": "code",
   "execution_count": 5,
   "metadata": {},
   "outputs": [
    {
     "name": "stdout",
     "output_type": "stream",
     "text": [
      "w: [-0.22893636]  b: [-1.185096]\n",
      "w: [2.6046143]  b: [2.4115264]\n",
      "w: [2.291363]  b: [3.752617]\n",
      "w: [2.1404078]  b: [4.3988876]\n",
      "w: [2.0676632]  b: [4.7103214]\n",
      "w: [2.0326104]  b: [4.8603945]\n",
      "w: [2.0157204]  b: [4.9327116]\n",
      "w: [2.0075786]  b: [4.9675508]\n",
      "w: [2.0036578]  b: [4.984337]\n",
      "w: [2.0017684]  b: [4.992423]\n",
      "w: [2.0008595]  b: [4.9963264]\n",
      "\n",
      "w: [2.0008593]  b: [4.996328]\n",
      "w: [2.0004163]  b: [4.998213]\n",
      "w: [2.0001962]  b: [4.9991665]\n",
      "w: [2.0001628]  b: [4.999311]\n",
      "w: [2.0001628]  b: [4.999311]\n",
      "w: [2.0001628]  b: [4.999311]\n",
      "w: [2.0001628]  b: [4.999311]\n",
      "w: [2.0001628]  b: [4.999311]\n",
      "w: [2.0001628]  b: [4.999311]\n",
      "w: [2.0001628]  b: [4.999311]\n",
      "w: [2.0001628]  b: [4.999311]\n"
     ]
    }
   ],
   "source": [
    "with tf.Session() as sess:\n",
    "    sess.run(tf.initialize_all_variables())\n",
    "    '''\n",
    "    print sess.run(hyp)\n",
    "    print sess.run(tf.reduce_mean([[1,2,3],[4,5,6]]))\n",
    "    print sess.run(tf.transpose(x_data))\n",
    "    print sess.run(tf.reshape(x_data, shape=[6,1]))\n",
    "    print sess.run(tf.transpose(tf.reshape(x_data, shape=[1,6])))\n",
    "    print sess.run([w,b])\n",
    "    print sess.run(train)\n",
    "    print sess.run([w,b])\n",
    "    '''\n",
    "    for step in range(20001):\n",
    "        sess.run(train)\n",
    "        if step % 2000 == 0:\n",
    "            print \"w:\",sess.run(w),\" b:\",sess.run(b)\n",
    "    \n",
    "    print ''\n",
    "    \n",
    "    for step in range(20001):\n",
    "        sess.run(train2, feed_dict={x:x_data, y:y_data})\n",
    "        if step % 2000 == 0:\n",
    "            print \"w:\",sess.run(w),\" b:\",sess.run(b)"
   ]
  },
  {
   "cell_type": "code",
   "execution_count": null,
   "metadata": {},
   "outputs": [],
   "source": []
  }
 ],
 "metadata": {
  "kernelspec": {
   "display_name": "Tensorflow",
   "language": "python",
   "name": "myenv"
  },
  "language_info": {
   "codemirror_mode": {
    "name": "ipython",
    "version": 2
   },
   "file_extension": ".py",
   "mimetype": "text/x-python",
   "name": "python",
   "nbconvert_exporter": "python",
   "pygments_lexer": "ipython2",
   "version": "2.7.12"
  }
 },
 "nbformat": 4,
 "nbformat_minor": 2
}
